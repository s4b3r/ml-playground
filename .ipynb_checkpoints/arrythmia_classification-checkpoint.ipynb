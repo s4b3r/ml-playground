{
 "cells": [
  {
   "cell_type": "code",
   "execution_count": 1,
   "metadata": {},
   "outputs": [],
   "source": [
    "import numpy as np\n",
    "import scipy as sc\n",
    "import numpy.random\n",
    "from pandas import Series,DataFrame\n",
    "import pandas as pd\n",
    "import seaborn as sns\n",
    "import matplotlib.pylab as plt\n",
    "import random\n",
    "from pylab import meshgrid\n",
    "%matplotlib inline"
   ]
  },
  {
   "cell_type": "code",
   "execution_count": 2,
   "metadata": {},
   "outputs": [],
   "source": [
    "import warnings\n",
    "warnings.filterwarnings('ignore')"
   ]
  },
  {
   "cell_type": "markdown",
   "metadata": {},
   "source": [
    "## Helper Methods"
   ]
  },
  {
   "cell_type": "code",
   "execution_count": 3,
   "metadata": {},
   "outputs": [],
   "source": [
    "confusion_matrices = []"
   ]
  },
  {
   "cell_type": "code",
   "execution_count": 4,
   "metadata": {},
   "outputs": [],
   "source": [
    "''' Exploratory Analysis ''' \n",
    "def expl(data):\n",
    "    return print(data.shape), print(data.count()), print(data.columns)"
   ]
  },
  {
   "cell_type": "code",
   "execution_count": 5,
   "metadata": {},
   "outputs": [],
   "source": [
    "from sklearn.model_selection import cross_val_score\n",
    "from sklearn import metrics\n",
    "class Performance:\n",
    "    \n",
    "    @staticmethod\n",
    "    def get_perf(fit, X, y, y_test, y_pred):\n",
    "        '''\n",
    "            this method outputs performance metrics for classification\n",
    "        '''\n",
    "        \n",
    "        # Gets Confusion Matrix\n",
    "        #conf_matrix = metrics.confusion_matrix(y_true = y, y_pred = y_pred)\n",
    "\n",
    "        # Gets Accuracy\n",
    "        accuracy = metrics.accuracy_score(y_true = y_test, y_pred = y_pred)\n",
    "\n",
    "        # Gets Recall\n",
    "        # \"The recall is intuitively the ability of the classifier to find all the positive samples.\"\n",
    "        recall = metrics.recall_score(y_true = y_test, y_pred = y_pred, average='macro')\n",
    "\n",
    "        # Gets Precision       \n",
    "        # precision (also called positive predictive value)\n",
    "        # is the fraction of relevant instances among the retrieved instances\n",
    "        precision = metrics.precision_score(y_true = y_test, y_pred = y_pred, average='macro')\n",
    "\n",
    "        # F1\n",
    "        f1 = metrics.f1_score(y_true = y_test, y_pred = y_pred, average='macro')\n",
    "        # Cross Validation Score\n",
    "        cvs = cross_val_score(fit, X, y, cv=10, scoring='accuracy')\n",
    "        \n",
    "        return {\n",
    "                'cross_validation_score': cvs, \n",
    "                'accuracy': accuracy,\n",
    "                'recall': recall,\n",
    "                'precision': precision,\n",
    "                'F1': f1\n",
    "        }"
   ]
  },
  {
   "cell_type": "markdown",
   "metadata": {},
   "source": [
    "## Dataset Information"
   ]
  },
  {
   "cell_type": "code",
   "execution_count": 202,
   "metadata": {},
   "outputs": [],
   "source": [
    "# DATA ACQUISITION\n",
    "# READ DATA FROM THE CSV FILE\n",
    "df = pd.read_csv('arrhythmia.csv', header=None)"
   ]
  },
  {
   "cell_type": "code",
   "execution_count": 203,
   "metadata": {},
   "outputs": [
    {
     "name": "stdout",
     "output_type": "stream",
     "text": [
      "<class 'pandas.core.frame.DataFrame'>\n",
      "RangeIndex: 452 entries, 0 to 451\n",
      "Columns: 280 entries, 0 to 279\n",
      "dtypes: float64(120), int64(155), object(5)\n",
      "memory usage: 988.8+ KB\n"
     ]
    }
   ],
   "source": [
    "df.info()"
   ]
  },
  {
   "cell_type": "code",
   "execution_count": 204,
   "metadata": {},
   "outputs": [
    {
     "data": {
      "text/html": [
       "<div>\n",
       "<style scoped>\n",
       "    .dataframe tbody tr th:only-of-type {\n",
       "        vertical-align: middle;\n",
       "    }\n",
       "\n",
       "    .dataframe tbody tr th {\n",
       "        vertical-align: top;\n",
       "    }\n",
       "\n",
       "    .dataframe thead th {\n",
       "        text-align: right;\n",
       "    }\n",
       "</style>\n",
       "<table border=\"1\" class=\"dataframe\">\n",
       "  <thead>\n",
       "    <tr style=\"text-align: right;\">\n",
       "      <th></th>\n",
       "      <th>0</th>\n",
       "      <th>1</th>\n",
       "      <th>2</th>\n",
       "      <th>3</th>\n",
       "      <th>4</th>\n",
       "      <th>5</th>\n",
       "      <th>6</th>\n",
       "      <th>7</th>\n",
       "      <th>8</th>\n",
       "      <th>9</th>\n",
       "      <th>...</th>\n",
       "      <th>270</th>\n",
       "      <th>271</th>\n",
       "      <th>272</th>\n",
       "      <th>273</th>\n",
       "      <th>274</th>\n",
       "      <th>275</th>\n",
       "      <th>276</th>\n",
       "      <th>277</th>\n",
       "      <th>278</th>\n",
       "      <th>279</th>\n",
       "    </tr>\n",
       "  </thead>\n",
       "  <tbody>\n",
       "    <tr>\n",
       "      <th>0</th>\n",
       "      <td>75</td>\n",
       "      <td>0</td>\n",
       "      <td>190</td>\n",
       "      <td>80</td>\n",
       "      <td>91</td>\n",
       "      <td>193</td>\n",
       "      <td>371</td>\n",
       "      <td>174</td>\n",
       "      <td>121</td>\n",
       "      <td>-16</td>\n",
       "      <td>...</td>\n",
       "      <td>0.0</td>\n",
       "      <td>9.0</td>\n",
       "      <td>-0.9</td>\n",
       "      <td>0.0</td>\n",
       "      <td>0.0</td>\n",
       "      <td>0.9</td>\n",
       "      <td>2.9</td>\n",
       "      <td>23.3</td>\n",
       "      <td>49.4</td>\n",
       "      <td>8</td>\n",
       "    </tr>\n",
       "    <tr>\n",
       "      <th>1</th>\n",
       "      <td>56</td>\n",
       "      <td>1</td>\n",
       "      <td>165</td>\n",
       "      <td>64</td>\n",
       "      <td>81</td>\n",
       "      <td>174</td>\n",
       "      <td>401</td>\n",
       "      <td>149</td>\n",
       "      <td>39</td>\n",
       "      <td>25</td>\n",
       "      <td>...</td>\n",
       "      <td>0.0</td>\n",
       "      <td>8.5</td>\n",
       "      <td>0.0</td>\n",
       "      <td>0.0</td>\n",
       "      <td>0.0</td>\n",
       "      <td>0.2</td>\n",
       "      <td>2.1</td>\n",
       "      <td>20.4</td>\n",
       "      <td>38.8</td>\n",
       "      <td>6</td>\n",
       "    </tr>\n",
       "    <tr>\n",
       "      <th>2</th>\n",
       "      <td>54</td>\n",
       "      <td>0</td>\n",
       "      <td>172</td>\n",
       "      <td>95</td>\n",
       "      <td>138</td>\n",
       "      <td>163</td>\n",
       "      <td>386</td>\n",
       "      <td>185</td>\n",
       "      <td>102</td>\n",
       "      <td>96</td>\n",
       "      <td>...</td>\n",
       "      <td>0.0</td>\n",
       "      <td>9.5</td>\n",
       "      <td>-2.4</td>\n",
       "      <td>0.0</td>\n",
       "      <td>0.0</td>\n",
       "      <td>0.3</td>\n",
       "      <td>3.4</td>\n",
       "      <td>12.3</td>\n",
       "      <td>49.0</td>\n",
       "      <td>10</td>\n",
       "    </tr>\n",
       "    <tr>\n",
       "      <th>3</th>\n",
       "      <td>55</td>\n",
       "      <td>0</td>\n",
       "      <td>175</td>\n",
       "      <td>94</td>\n",
       "      <td>100</td>\n",
       "      <td>202</td>\n",
       "      <td>380</td>\n",
       "      <td>179</td>\n",
       "      <td>143</td>\n",
       "      <td>28</td>\n",
       "      <td>...</td>\n",
       "      <td>0.0</td>\n",
       "      <td>12.2</td>\n",
       "      <td>-2.2</td>\n",
       "      <td>0.0</td>\n",
       "      <td>0.0</td>\n",
       "      <td>0.4</td>\n",
       "      <td>2.6</td>\n",
       "      <td>34.6</td>\n",
       "      <td>61.6</td>\n",
       "      <td>1</td>\n",
       "    </tr>\n",
       "    <tr>\n",
       "      <th>4</th>\n",
       "      <td>75</td>\n",
       "      <td>0</td>\n",
       "      <td>190</td>\n",
       "      <td>80</td>\n",
       "      <td>88</td>\n",
       "      <td>181</td>\n",
       "      <td>360</td>\n",
       "      <td>177</td>\n",
       "      <td>103</td>\n",
       "      <td>-16</td>\n",
       "      <td>...</td>\n",
       "      <td>0.0</td>\n",
       "      <td>13.1</td>\n",
       "      <td>-3.6</td>\n",
       "      <td>0.0</td>\n",
       "      <td>0.0</td>\n",
       "      <td>-0.1</td>\n",
       "      <td>3.9</td>\n",
       "      <td>25.4</td>\n",
       "      <td>62.8</td>\n",
       "      <td>7</td>\n",
       "    </tr>\n",
       "  </tbody>\n",
       "</table>\n",
       "<p>5 rows × 280 columns</p>\n",
       "</div>"
      ],
      "text/plain": [
       "   0    1    2    3    4    5    6    7    8    9   ...   270   271  272  273  \\\n",
       "0   75    0  190   80   91  193  371  174  121  -16 ...   0.0   9.0 -0.9  0.0   \n",
       "1   56    1  165   64   81  174  401  149   39   25 ...   0.0   8.5  0.0  0.0   \n",
       "2   54    0  172   95  138  163  386  185  102   96 ...   0.0   9.5 -2.4  0.0   \n",
       "3   55    0  175   94  100  202  380  179  143   28 ...   0.0  12.2 -2.2  0.0   \n",
       "4   75    0  190   80   88  181  360  177  103  -16 ...   0.0  13.1 -3.6  0.0   \n",
       "\n",
       "   274  275  276   277   278  279  \n",
       "0  0.0  0.9  2.9  23.3  49.4    8  \n",
       "1  0.0  0.2  2.1  20.4  38.8    6  \n",
       "2  0.0  0.3  3.4  12.3  49.0   10  \n",
       "3  0.0  0.4  2.6  34.6  61.6    1  \n",
       "4  0.0 -0.1  3.9  25.4  62.8    7  \n",
       "\n",
       "[5 rows x 280 columns]"
      ]
     },
     "execution_count": 204,
     "metadata": {},
     "output_type": "execute_result"
    }
   ],
   "source": [
    "df.head()"
   ]
  },
  {
   "cell_type": "code",
   "execution_count": 205,
   "metadata": {
    "scrolled": true
   },
   "outputs": [
    {
     "name": "stdout",
     "output_type": "stream",
     "text": [
      "(452, 280)\n",
      "0      452\n",
      "1      452\n",
      "2      452\n",
      "3      452\n",
      "4      452\n",
      "5      452\n",
      "6      452\n",
      "7      452\n",
      "8      452\n",
      "9      452\n",
      "10     452\n",
      "11     452\n",
      "12     452\n",
      "13     452\n",
      "14     452\n",
      "15     452\n",
      "16     452\n",
      "17     452\n",
      "18     452\n",
      "19     452\n",
      "20     452\n",
      "21     452\n",
      "22     452\n",
      "23     452\n",
      "24     452\n",
      "25     452\n",
      "26     452\n",
      "27     452\n",
      "28     452\n",
      "29     452\n",
      "      ... \n",
      "250    452\n",
      "251    452\n",
      "252    452\n",
      "253    452\n",
      "254    452\n",
      "255    452\n",
      "256    452\n",
      "257    452\n",
      "258    452\n",
      "259    452\n",
      "260    452\n",
      "261    452\n",
      "262    452\n",
      "263    452\n",
      "264    452\n",
      "265    452\n",
      "266    452\n",
      "267    452\n",
      "268    452\n",
      "269    452\n",
      "270    452\n",
      "271    452\n",
      "272    452\n",
      "273    452\n",
      "274    452\n",
      "275    452\n",
      "276    452\n",
      "277    452\n",
      "278    452\n",
      "279    452\n",
      "Length: 280, dtype: int64\n",
      "Int64Index([  0,   1,   2,   3,   4,   5,   6,   7,   8,   9,\n",
      "            ...\n",
      "            270, 271, 272, 273, 274, 275, 276, 277, 278, 279],\n",
      "           dtype='int64', length=280)\n"
     ]
    },
    {
     "data": {
      "text/plain": [
       "(None, None, None)"
      ]
     },
     "execution_count": 205,
     "metadata": {},
     "output_type": "execute_result"
    }
   ],
   "source": [
    "expl(df)"
   ]
  },
  {
   "cell_type": "code",
   "execution_count": 206,
   "metadata": {},
   "outputs": [
    {
     "data": {
      "text/html": [
       "<div>\n",
       "<style scoped>\n",
       "    .dataframe tbody tr th:only-of-type {\n",
       "        vertical-align: middle;\n",
       "    }\n",
       "\n",
       "    .dataframe tbody tr th {\n",
       "        vertical-align: top;\n",
       "    }\n",
       "\n",
       "    .dataframe thead th {\n",
       "        text-align: right;\n",
       "    }\n",
       "</style>\n",
       "<table border=\"1\" class=\"dataframe\">\n",
       "  <thead>\n",
       "    <tr style=\"text-align: right;\">\n",
       "      <th></th>\n",
       "      <th>0</th>\n",
       "      <th>1</th>\n",
       "      <th>2</th>\n",
       "      <th>3</th>\n",
       "      <th>4</th>\n",
       "      <th>5</th>\n",
       "      <th>6</th>\n",
       "      <th>7</th>\n",
       "      <th>8</th>\n",
       "      <th>9</th>\n",
       "      <th>...</th>\n",
       "      <th>270</th>\n",
       "      <th>271</th>\n",
       "      <th>272</th>\n",
       "      <th>273</th>\n",
       "      <th>274</th>\n",
       "      <th>275</th>\n",
       "      <th>276</th>\n",
       "      <th>277</th>\n",
       "      <th>278</th>\n",
       "      <th>279</th>\n",
       "    </tr>\n",
       "  </thead>\n",
       "  <tbody>\n",
       "    <tr>\n",
       "      <th>count</th>\n",
       "      <td>452.000000</td>\n",
       "      <td>452.000000</td>\n",
       "      <td>452.000000</td>\n",
       "      <td>452.000000</td>\n",
       "      <td>452.000000</td>\n",
       "      <td>452.000000</td>\n",
       "      <td>452.000000</td>\n",
       "      <td>452.000000</td>\n",
       "      <td>452.000000</td>\n",
       "      <td>452.000000</td>\n",
       "      <td>...</td>\n",
       "      <td>452.000000</td>\n",
       "      <td>452.000000</td>\n",
       "      <td>452.000000</td>\n",
       "      <td>452.000000</td>\n",
       "      <td>452.0</td>\n",
       "      <td>452.000000</td>\n",
       "      <td>452.000000</td>\n",
       "      <td>452.000000</td>\n",
       "      <td>452.000000</td>\n",
       "      <td>452.000000</td>\n",
       "    </tr>\n",
       "    <tr>\n",
       "      <th>mean</th>\n",
       "      <td>46.471239</td>\n",
       "      <td>0.550885</td>\n",
       "      <td>166.188053</td>\n",
       "      <td>68.170354</td>\n",
       "      <td>88.920354</td>\n",
       "      <td>155.152655</td>\n",
       "      <td>367.207965</td>\n",
       "      <td>169.949115</td>\n",
       "      <td>90.004425</td>\n",
       "      <td>33.676991</td>\n",
       "      <td>...</td>\n",
       "      <td>-0.278982</td>\n",
       "      <td>9.048009</td>\n",
       "      <td>-1.457301</td>\n",
       "      <td>0.003982</td>\n",
       "      <td>0.0</td>\n",
       "      <td>0.514823</td>\n",
       "      <td>1.222345</td>\n",
       "      <td>19.326106</td>\n",
       "      <td>29.473230</td>\n",
       "      <td>3.880531</td>\n",
       "    </tr>\n",
       "    <tr>\n",
       "      <th>std</th>\n",
       "      <td>16.466631</td>\n",
       "      <td>0.497955</td>\n",
       "      <td>37.170340</td>\n",
       "      <td>16.590803</td>\n",
       "      <td>15.364394</td>\n",
       "      <td>44.842283</td>\n",
       "      <td>33.385421</td>\n",
       "      <td>35.633072</td>\n",
       "      <td>25.826643</td>\n",
       "      <td>45.431434</td>\n",
       "      <td>...</td>\n",
       "      <td>0.548876</td>\n",
       "      <td>3.472862</td>\n",
       "      <td>2.002430</td>\n",
       "      <td>0.050118</td>\n",
       "      <td>0.0</td>\n",
       "      <td>0.347531</td>\n",
       "      <td>1.426052</td>\n",
       "      <td>13.503922</td>\n",
       "      <td>18.493927</td>\n",
       "      <td>4.407097</td>\n",
       "    </tr>\n",
       "    <tr>\n",
       "      <th>min</th>\n",
       "      <td>0.000000</td>\n",
       "      <td>0.000000</td>\n",
       "      <td>105.000000</td>\n",
       "      <td>6.000000</td>\n",
       "      <td>55.000000</td>\n",
       "      <td>0.000000</td>\n",
       "      <td>232.000000</td>\n",
       "      <td>108.000000</td>\n",
       "      <td>0.000000</td>\n",
       "      <td>-172.000000</td>\n",
       "      <td>...</td>\n",
       "      <td>-4.100000</td>\n",
       "      <td>0.000000</td>\n",
       "      <td>-28.600000</td>\n",
       "      <td>0.000000</td>\n",
       "      <td>0.0</td>\n",
       "      <td>-0.800000</td>\n",
       "      <td>-6.000000</td>\n",
       "      <td>-44.200000</td>\n",
       "      <td>-38.600000</td>\n",
       "      <td>1.000000</td>\n",
       "    </tr>\n",
       "    <tr>\n",
       "      <th>25%</th>\n",
       "      <td>36.000000</td>\n",
       "      <td>0.000000</td>\n",
       "      <td>160.000000</td>\n",
       "      <td>59.000000</td>\n",
       "      <td>80.000000</td>\n",
       "      <td>142.000000</td>\n",
       "      <td>350.000000</td>\n",
       "      <td>148.000000</td>\n",
       "      <td>79.000000</td>\n",
       "      <td>3.750000</td>\n",
       "      <td>...</td>\n",
       "      <td>-0.425000</td>\n",
       "      <td>6.600000</td>\n",
       "      <td>-2.100000</td>\n",
       "      <td>0.000000</td>\n",
       "      <td>0.0</td>\n",
       "      <td>0.400000</td>\n",
       "      <td>0.500000</td>\n",
       "      <td>11.450000</td>\n",
       "      <td>17.550000</td>\n",
       "      <td>1.000000</td>\n",
       "    </tr>\n",
       "    <tr>\n",
       "      <th>50%</th>\n",
       "      <td>47.000000</td>\n",
       "      <td>1.000000</td>\n",
       "      <td>164.000000</td>\n",
       "      <td>68.000000</td>\n",
       "      <td>86.000000</td>\n",
       "      <td>157.000000</td>\n",
       "      <td>367.000000</td>\n",
       "      <td>162.000000</td>\n",
       "      <td>91.000000</td>\n",
       "      <td>40.000000</td>\n",
       "      <td>...</td>\n",
       "      <td>0.000000</td>\n",
       "      <td>8.800000</td>\n",
       "      <td>-1.100000</td>\n",
       "      <td>0.000000</td>\n",
       "      <td>0.0</td>\n",
       "      <td>0.500000</td>\n",
       "      <td>1.350000</td>\n",
       "      <td>18.100000</td>\n",
       "      <td>27.900000</td>\n",
       "      <td>1.000000</td>\n",
       "    </tr>\n",
       "    <tr>\n",
       "      <th>75%</th>\n",
       "      <td>58.000000</td>\n",
       "      <td>1.000000</td>\n",
       "      <td>170.000000</td>\n",
       "      <td>79.000000</td>\n",
       "      <td>94.000000</td>\n",
       "      <td>175.000000</td>\n",
       "      <td>384.000000</td>\n",
       "      <td>179.000000</td>\n",
       "      <td>102.000000</td>\n",
       "      <td>66.000000</td>\n",
       "      <td>...</td>\n",
       "      <td>0.000000</td>\n",
       "      <td>11.200000</td>\n",
       "      <td>0.000000</td>\n",
       "      <td>0.000000</td>\n",
       "      <td>0.0</td>\n",
       "      <td>0.700000</td>\n",
       "      <td>2.100000</td>\n",
       "      <td>25.825000</td>\n",
       "      <td>41.125000</td>\n",
       "      <td>6.000000</td>\n",
       "    </tr>\n",
       "    <tr>\n",
       "      <th>max</th>\n",
       "      <td>83.000000</td>\n",
       "      <td>1.000000</td>\n",
       "      <td>780.000000</td>\n",
       "      <td>176.000000</td>\n",
       "      <td>188.000000</td>\n",
       "      <td>524.000000</td>\n",
       "      <td>509.000000</td>\n",
       "      <td>381.000000</td>\n",
       "      <td>205.000000</td>\n",
       "      <td>169.000000</td>\n",
       "      <td>...</td>\n",
       "      <td>0.000000</td>\n",
       "      <td>23.600000</td>\n",
       "      <td>0.000000</td>\n",
       "      <td>0.800000</td>\n",
       "      <td>0.0</td>\n",
       "      <td>2.400000</td>\n",
       "      <td>6.000000</td>\n",
       "      <td>88.800000</td>\n",
       "      <td>115.900000</td>\n",
       "      <td>16.000000</td>\n",
       "    </tr>\n",
       "  </tbody>\n",
       "</table>\n",
       "<p>8 rows × 275 columns</p>\n",
       "</div>"
      ],
      "text/plain": [
       "              0           1           2           3           4           5    \\\n",
       "count  452.000000  452.000000  452.000000  452.000000  452.000000  452.000000   \n",
       "mean    46.471239    0.550885  166.188053   68.170354   88.920354  155.152655   \n",
       "std     16.466631    0.497955   37.170340   16.590803   15.364394   44.842283   \n",
       "min      0.000000    0.000000  105.000000    6.000000   55.000000    0.000000   \n",
       "25%     36.000000    0.000000  160.000000   59.000000   80.000000  142.000000   \n",
       "50%     47.000000    1.000000  164.000000   68.000000   86.000000  157.000000   \n",
       "75%     58.000000    1.000000  170.000000   79.000000   94.000000  175.000000   \n",
       "max     83.000000    1.000000  780.000000  176.000000  188.000000  524.000000   \n",
       "\n",
       "              6           7           8           9       ...             270  \\\n",
       "count  452.000000  452.000000  452.000000  452.000000     ...      452.000000   \n",
       "mean   367.207965  169.949115   90.004425   33.676991     ...       -0.278982   \n",
       "std     33.385421   35.633072   25.826643   45.431434     ...        0.548876   \n",
       "min    232.000000  108.000000    0.000000 -172.000000     ...       -4.100000   \n",
       "25%    350.000000  148.000000   79.000000    3.750000     ...       -0.425000   \n",
       "50%    367.000000  162.000000   91.000000   40.000000     ...        0.000000   \n",
       "75%    384.000000  179.000000  102.000000   66.000000     ...        0.000000   \n",
       "max    509.000000  381.000000  205.000000  169.000000     ...        0.000000   \n",
       "\n",
       "              271         272         273    274         275         276  \\\n",
       "count  452.000000  452.000000  452.000000  452.0  452.000000  452.000000   \n",
       "mean     9.048009   -1.457301    0.003982    0.0    0.514823    1.222345   \n",
       "std      3.472862    2.002430    0.050118    0.0    0.347531    1.426052   \n",
       "min      0.000000  -28.600000    0.000000    0.0   -0.800000   -6.000000   \n",
       "25%      6.600000   -2.100000    0.000000    0.0    0.400000    0.500000   \n",
       "50%      8.800000   -1.100000    0.000000    0.0    0.500000    1.350000   \n",
       "75%     11.200000    0.000000    0.000000    0.0    0.700000    2.100000   \n",
       "max     23.600000    0.000000    0.800000    0.0    2.400000    6.000000   \n",
       "\n",
       "              277         278         279  \n",
       "count  452.000000  452.000000  452.000000  \n",
       "mean    19.326106   29.473230    3.880531  \n",
       "std     13.503922   18.493927    4.407097  \n",
       "min    -44.200000  -38.600000    1.000000  \n",
       "25%     11.450000   17.550000    1.000000  \n",
       "50%     18.100000   27.900000    1.000000  \n",
       "75%     25.825000   41.125000    6.000000  \n",
       "max     88.800000  115.900000   16.000000  \n",
       "\n",
       "[8 rows x 275 columns]"
      ]
     },
     "execution_count": 206,
     "metadata": {},
     "output_type": "execute_result"
    }
   ],
   "source": [
    "df.describe()"
   ]
  },
  {
   "cell_type": "code",
   "execution_count": 207,
   "metadata": {},
   "outputs": [
    {
     "data": {
      "text/plain": [
       "([<matplotlib.axis.XTick at 0x7f23b0526f60>,\n",
       "  <matplotlib.axis.XTick at 0x7f23b052f780>,\n",
       "  <matplotlib.axis.XTick at 0x7f23afccf780>,\n",
       "  <matplotlib.axis.XTick at 0x7f23afcda828>,\n",
       "  <matplotlib.axis.XTick at 0x7f23afcdac88>,\n",
       "  <matplotlib.axis.XTick at 0x7f23afcfd198>,\n",
       "  <matplotlib.axis.XTick at 0x7f23afcfd668>,\n",
       "  <matplotlib.axis.XTick at 0x7f23afcfdb38>,\n",
       "  <matplotlib.axis.XTick at 0x7f23afc4b0b8>,\n",
       "  <matplotlib.axis.XTick at 0x7f23afcfd748>,\n",
       "  <matplotlib.axis.XTick at 0x7f23afcda7b8>,\n",
       "  <matplotlib.axis.XTick at 0x7f23afc4b710>,\n",
       "  <matplotlib.axis.XTick at 0x7f23afc4bbe0>,\n",
       "  <matplotlib.axis.XTick at 0x7f23afc5a160>,\n",
       "  <matplotlib.axis.XTick at 0x7f23afc5a5c0>,\n",
       "  <matplotlib.axis.XTick at 0x7f23afc5aa90>],\n",
       " <a list of 16 Text xticklabel objects>)"
      ]
     },
     "execution_count": 207,
     "metadata": {},
     "output_type": "execute_result"
    },
    {
     "data": {
      "image/png": "[encoded data removed]",
      "text/plain": [
       "<Figure size 432x288 with 1 Axes>"
      ]
     },
     "metadata": {
      "needs_background": "light"
     },
     "output_type": "display_data"
    }
   ],
   "source": [
    "x = np.arange(1,17) #classes\n",
    "h, bins = np.histogram(y, 16)\n",
    "plt.bar(x-0.4, h)\n",
    "plt.xlabel('Class Labels')\n",
    "plt.ylabel('Number of Instances')\n",
    "plt.xticks(x)\n",
    "# we can see that most patients go into the normal range and \n",
    "# theres nothing in classes 11-13"
   ]
  },
  {
   "cell_type": "markdown",
   "metadata": {},
   "source": [
    "## Preprocessing"
   ]
  },
  {
   "cell_type": "code",
   "execution_count": 208,
   "metadata": {},
   "outputs": [],
   "source": [
    "def na_to_zero(df):\n",
    "    return df.fillna(0)"
   ]
  },
  {
   "cell_type": "code",
   "execution_count": 209,
   "metadata": {},
   "outputs": [],
   "source": [
    "def remove_col_13(df):\n",
    "    return df.drop(13,axis=1)"
   ]
  },
  {
   "cell_type": "code",
   "execution_count": 210,
   "metadata": {},
   "outputs": [],
   "source": [
    "df.replace(to_replace='?', value=np.nan, inplace=True)\n",
    "df.fillna(0, inplace=True)"
   ]
  },
  {
   "cell_type": "code",
   "execution_count": 211,
   "metadata": {},
   "outputs": [],
   "source": [
    "y = df.iloc[ : , -1] # Truth\n",
    "X = df.iloc[:, :-1]"
   ]
  },
  {
   "cell_type": "markdown",
   "metadata": {},
   "source": [
    "## Random Forest"
   ]
  },
  {
   "cell_type": "code",
   "execution_count": 212,
   "metadata": {},
   "outputs": [],
   "source": [
    "from sklearn.model_selection import train_test_split\n",
    "X_train, X_test, y_train, y_test = train_test_split(X, y, test_size=0.30)"
   ]
  },
  {
   "cell_type": "code",
   "execution_count": 213,
   "metadata": {},
   "outputs": [
    {
     "data": {
      "text/plain": [
       "RandomForestClassifier(bootstrap=True, class_weight=None, criterion='gini',\n",
       "            max_depth=None, max_features='auto', max_leaf_nodes=None,\n",
       "            min_impurity_decrease=0.0, min_impurity_split=None,\n",
       "            min_samples_leaf=1, min_samples_split=2,\n",
       "            min_weight_fraction_leaf=0.0, n_estimators=10, n_jobs=1,\n",
       "            oob_score=False, random_state=None, verbose=0,\n",
       "            warm_start=False)"
      ]
     },
     "execution_count": 213,
     "metadata": {},
     "output_type": "execute_result"
    }
   ],
   "source": [
    "from sklearn.ensemble import RandomForestClassifier\n",
    "rfc = RandomForestClassifier(n_estimators=10)\n",
    "rfc.fit(X_train, y_train)"
   ]
  },
  {
   "cell_type": "code",
   "execution_count": 214,
   "metadata": {},
   "outputs": [],
   "source": [
    "rfc_pred = rfc.predict(X_test)"
   ]
  },
  {
   "cell_type": "code",
   "execution_count": 215,
   "metadata": {},
   "outputs": [
    {
     "data": {
      "text/plain": [
       "array([ 1,  1,  1,  1, 10,  1,  1,  1,  2,  1,  2,  1,  1,  1,  1,  1,  1,\n",
       "        1,  2, 10, 10,  1,  1,  1,  1,  1,  2,  1,  1,  2,  1,  1,  1,  1,\n",
       "        1,  1,  1, 10, 10,  1,  1,  1,  1,  1,  1,  1,  9,  1,  1,  1, 16,\n",
       "        2,  1,  1,  1, 10, 10,  1,  3,  4,  1,  1,  1,  1,  1,  1,  1,  1,\n",
       "        1,  3,  1,  1,  1, 10,  1,  1,  1,  1,  1,  1,  1, 10,  1,  1,  1,\n",
       "        1,  2,  2,  1,  1,  4,  1,  1,  1,  3,  2,  1,  1,  2,  1,  1,  1,\n",
       "       10,  6,  1,  1, 10,  1,  5,  1,  1,  1,  1,  1,  1,  1,  1,  1,  3,\n",
       "        1,  2,  1,  2,  1,  1,  6,  1,  1,  1,  1,  1,  2,  1,  1,  1,  1])"
      ]
     },
     "execution_count": 215,
     "metadata": {},
     "output_type": "execute_result"
    }
   ],
   "source": [
    "rfc_pred"
   ]
  },
  {
   "cell_type": "code",
   "execution_count": 216,
   "metadata": {},
   "outputs": [
    {
     "name": "stdout",
     "output_type": "stream",
     "text": [
      "             precision    recall  f1-score   support\n",
      "\n",
      "          1       0.69      0.93      0.80        75\n",
      "          2       0.69      0.60      0.64        15\n",
      "          3       1.00      0.57      0.73         7\n",
      "          4       0.00      0.00      0.00         1\n",
      "          5       1.00      0.25      0.40         4\n",
      "          6       0.50      0.20      0.29         5\n",
      "          7       0.00      0.00      0.00         2\n",
      "          8       0.00      0.00      0.00         1\n",
      "          9       1.00      1.00      1.00         1\n",
      "         10       0.91      0.56      0.69        18\n",
      "         14       0.00      0.00      0.00         2\n",
      "         16       0.00      0.00      0.00         5\n",
      "\n",
      "avg / total       0.69      0.71      0.67       136\n",
      "\n"
     ]
    }
   ],
   "source": [
    "from sklearn.metrics import classification_report,confusion_matrix\n",
    "confusion_matrices.append(confusion_matrix(y_test, rfc_pred, labels=range(1,17))\n",
    ")\n",
    "print(classification_report(y_test, rfc_pred))"
   ]
  },
  {
   "cell_type": "code",
   "execution_count": 217,
   "metadata": {},
   "outputs": [],
   "source": [
    "rf_perf = Performance()"
   ]
  },
  {
   "cell_type": "code",
   "execution_count": 218,
   "metadata": {},
   "outputs": [],
   "source": [
    "rf_perf_res = rf_perf.get_perf(rfc, X, y, y_test, rfc_pred)"
   ]
  },
  {
   "cell_type": "code",
   "execution_count": 219,
   "metadata": {},
   "outputs": [
    {
     "data": {
      "text/html": [
       "<div>\n",
       "<style scoped>\n",
       "    .dataframe tbody tr th:only-of-type {\n",
       "        vertical-align: middle;\n",
       "    }\n",
       "\n",
       "    .dataframe tbody tr th {\n",
       "        vertical-align: top;\n",
       "    }\n",
       "\n",
       "    .dataframe thead th {\n",
       "        text-align: right;\n",
       "    }\n",
       "</style>\n",
       "<table border=\"1\" class=\"dataframe\">\n",
       "  <thead>\n",
       "    <tr style=\"text-align: right;\">\n",
       "      <th></th>\n",
       "      <th>cross_validation_score</th>\n",
       "      <th>accuracy</th>\n",
       "      <th>recall</th>\n",
       "      <th>precision</th>\n",
       "      <th>F1</th>\n",
       "    </tr>\n",
       "  </thead>\n",
       "  <tbody>\n",
       "    <tr>\n",
       "      <th>0</th>\n",
       "      <td>0.634615</td>\n",
       "      <td>0.705882</td>\n",
       "      <td>0.342526</td>\n",
       "      <td>0.482872</td>\n",
       "      <td>0.378413</td>\n",
       "    </tr>\n",
       "    <tr>\n",
       "      <th>1</th>\n",
       "      <td>0.692308</td>\n",
       "      <td>0.705882</td>\n",
       "      <td>0.342526</td>\n",
       "      <td>0.482872</td>\n",
       "      <td>0.378413</td>\n",
       "    </tr>\n",
       "    <tr>\n",
       "      <th>2</th>\n",
       "      <td>0.640000</td>\n",
       "      <td>0.705882</td>\n",
       "      <td>0.342526</td>\n",
       "      <td>0.482872</td>\n",
       "      <td>0.378413</td>\n",
       "    </tr>\n",
       "    <tr>\n",
       "      <th>3</th>\n",
       "      <td>0.645833</td>\n",
       "      <td>0.705882</td>\n",
       "      <td>0.342526</td>\n",
       "      <td>0.482872</td>\n",
       "      <td>0.378413</td>\n",
       "    </tr>\n",
       "    <tr>\n",
       "      <th>4</th>\n",
       "      <td>0.673913</td>\n",
       "      <td>0.705882</td>\n",
       "      <td>0.342526</td>\n",
       "      <td>0.482872</td>\n",
       "      <td>0.378413</td>\n",
       "    </tr>\n",
       "    <tr>\n",
       "      <th>5</th>\n",
       "      <td>0.756098</td>\n",
       "      <td>0.705882</td>\n",
       "      <td>0.342526</td>\n",
       "      <td>0.482872</td>\n",
       "      <td>0.378413</td>\n",
       "    </tr>\n",
       "    <tr>\n",
       "      <th>6</th>\n",
       "      <td>0.780488</td>\n",
       "      <td>0.705882</td>\n",
       "      <td>0.342526</td>\n",
       "      <td>0.482872</td>\n",
       "      <td>0.378413</td>\n",
       "    </tr>\n",
       "    <tr>\n",
       "      <th>7</th>\n",
       "      <td>0.634146</td>\n",
       "      <td>0.705882</td>\n",
       "      <td>0.342526</td>\n",
       "      <td>0.482872</td>\n",
       "      <td>0.378413</td>\n",
       "    </tr>\n",
       "    <tr>\n",
       "      <th>8</th>\n",
       "      <td>0.707317</td>\n",
       "      <td>0.705882</td>\n",
       "      <td>0.342526</td>\n",
       "      <td>0.482872</td>\n",
       "      <td>0.378413</td>\n",
       "    </tr>\n",
       "    <tr>\n",
       "      <th>9</th>\n",
       "      <td>0.750000</td>\n",
       "      <td>0.705882</td>\n",
       "      <td>0.342526</td>\n",
       "      <td>0.482872</td>\n",
       "      <td>0.378413</td>\n",
       "    </tr>\n",
       "  </tbody>\n",
       "</table>\n",
       "</div>"
      ],
      "text/plain": [
       "   cross_validation_score  accuracy    recall  precision        F1\n",
       "0                0.634615  0.705882  0.342526   0.482872  0.378413\n",
       "1                0.692308  0.705882  0.342526   0.482872  0.378413\n",
       "2                0.640000  0.705882  0.342526   0.482872  0.378413\n",
       "3                0.645833  0.705882  0.342526   0.482872  0.378413\n",
       "4                0.673913  0.705882  0.342526   0.482872  0.378413\n",
       "5                0.756098  0.705882  0.342526   0.482872  0.378413\n",
       "6                0.780488  0.705882  0.342526   0.482872  0.378413\n",
       "7                0.634146  0.705882  0.342526   0.482872  0.378413\n",
       "8                0.707317  0.705882  0.342526   0.482872  0.378413\n",
       "9                0.750000  0.705882  0.342526   0.482872  0.378413"
      ]
     },
     "execution_count": 219,
     "metadata": {},
     "output_type": "execute_result"
    }
   ],
   "source": [
    "performance_df = pd.DataFrame.from_dict(rf_perf_res)\n",
    "performance_df"
   ]
  },
  {
   "cell_type": "code",
   "execution_count": 220,
   "metadata": {},
   "outputs": [
    {
     "name": "stdout",
     "output_type": "stream",
     "text": [
      "Cross Validation Average: 0.6914718234222476\n"
     ]
    }
   ],
   "source": [
    "print(\"Cross Validation Average: {}\".format(rf_perf_res['cross_validation_score'].mean()))"
   ]
  },
  {
   "cell_type": "code",
   "execution_count": 221,
   "metadata": {},
   "outputs": [
    {
     "name": "stdout",
     "output_type": "stream",
     "text": [
      "Random Forest Train Score: 0.99\n",
      "Random Forest Test Score: 0.71\n"
     ]
    }
   ],
   "source": [
    "print('Random Forest Train Score: {:.2f}'.format(rfc.score(X_train, y_train)))\n",
    "print('Random Forest Test Score: {:.2f}'.format(rfc.score(X_test, y_test)))\n"
   ]
  },
  {
   "cell_type": "markdown",
   "metadata": {},
   "source": [
    "### Improving Random Forest"
   ]
  },
  {
   "cell_type": "code",
   "execution_count": 222,
   "metadata": {},
   "outputs": [
    {
     "data": {
      "text/plain": [
       "0.6893071416918183"
      ]
     },
     "execution_count": 222,
     "metadata": {},
     "output_type": "execute_result"
    }
   ],
   "source": [
    "# NaNs to mean\n",
    "df = na_to_zero(df)\n",
    "df.fillna(df.mean(), inplace=True)\n",
    "y = df.iloc[ : , -1] \n",
    "X = df.iloc[:, :-1]\n",
    "X_train, X_test, y_train, y_test = train_test_split(X, y, test_size=0.30)\n",
    "rfc = RandomForestClassifier(n_estimators=10)\n",
    "rfc.fit(X_train, y_train)\n",
    "rfc_pred = rfc.predict(X_test)\n",
    "rf_perf = Performance()\n",
    "rf_perf_res = rf_perf.get_perf(rfc, X, y, y_test,rfc_pred)\n",
    "rf_perf_res['cross_validation_score'].mean()"
   ]
  },
  {
   "cell_type": "code",
   "execution_count": 223,
   "metadata": {},
   "outputs": [
    {
     "name": "stdout",
     "output_type": "stream",
     "text": [
      "             precision    recall  f1-score   support\n",
      "\n",
      "          1       0.73      0.89      0.80        70\n",
      "          2       0.42      0.50      0.46        16\n",
      "          3       0.50      0.60      0.55         5\n",
      "          4       0.67      0.29      0.40         7\n",
      "          5       1.00      0.67      0.80         3\n",
      "          6       0.75      0.43      0.55         7\n",
      "          7       0.00      0.00      0.00         2\n",
      "          9       1.00      0.25      0.40         4\n",
      "         10       0.47      0.58      0.52        12\n",
      "         14       0.00      0.00      0.00         1\n",
      "         15       0.00      0.00      0.00         1\n",
      "         16       0.00      0.00      0.00         8\n",
      "\n",
      "avg / total       0.61      0.65      0.61       136\n",
      "\n"
     ]
    }
   ],
   "source": [
    "confusion_matrices.append(confusion_matrix(y_test, rfc_pred, labels=range(1,17))\n",
    ")\n",
    "print(classification_report(y_test, rfc_pred))"
   ]
  },
  {
   "cell_type": "code",
   "execution_count": 224,
   "metadata": {},
   "outputs": [
    {
     "data": {
      "text/html": [
       "<div>\n",
       "<style scoped>\n",
       "    .dataframe tbody tr th:only-of-type {\n",
       "        vertical-align: middle;\n",
       "    }\n",
       "\n",
       "    .dataframe tbody tr th {\n",
       "        vertical-align: top;\n",
       "    }\n",
       "\n",
       "    .dataframe thead th {\n",
       "        text-align: right;\n",
       "    }\n",
       "</style>\n",
       "<table border=\"1\" class=\"dataframe\">\n",
       "  <thead>\n",
       "    <tr style=\"text-align: right;\">\n",
       "      <th></th>\n",
       "      <th>cross_validation_score</th>\n",
       "      <th>accuracy</th>\n",
       "      <th>recall</th>\n",
       "      <th>precision</th>\n",
       "      <th>F1</th>\n",
       "    </tr>\n",
       "  </thead>\n",
       "  <tbody>\n",
       "    <tr>\n",
       "      <th>0</th>\n",
       "      <td>0.653846</td>\n",
       "      <td>0.647059</td>\n",
       "      <td>0.35</td>\n",
       "      <td>0.46115</td>\n",
       "      <td>0.372214</td>\n",
       "    </tr>\n",
       "    <tr>\n",
       "      <th>1</th>\n",
       "      <td>0.653846</td>\n",
       "      <td>0.647059</td>\n",
       "      <td>0.35</td>\n",
       "      <td>0.46115</td>\n",
       "      <td>0.372214</td>\n",
       "    </tr>\n",
       "    <tr>\n",
       "      <th>2</th>\n",
       "      <td>0.600000</td>\n",
       "      <td>0.647059</td>\n",
       "      <td>0.35</td>\n",
       "      <td>0.46115</td>\n",
       "      <td>0.372214</td>\n",
       "    </tr>\n",
       "    <tr>\n",
       "      <th>3</th>\n",
       "      <td>0.687500</td>\n",
       "      <td>0.647059</td>\n",
       "      <td>0.35</td>\n",
       "      <td>0.46115</td>\n",
       "      <td>0.372214</td>\n",
       "    </tr>\n",
       "    <tr>\n",
       "      <th>4</th>\n",
       "      <td>0.717391</td>\n",
       "      <td>0.647059</td>\n",
       "      <td>0.35</td>\n",
       "      <td>0.46115</td>\n",
       "      <td>0.372214</td>\n",
       "    </tr>\n",
       "    <tr>\n",
       "      <th>5</th>\n",
       "      <td>0.707317</td>\n",
       "      <td>0.647059</td>\n",
       "      <td>0.35</td>\n",
       "      <td>0.46115</td>\n",
       "      <td>0.372214</td>\n",
       "    </tr>\n",
       "    <tr>\n",
       "      <th>6</th>\n",
       "      <td>0.780488</td>\n",
       "      <td>0.647059</td>\n",
       "      <td>0.35</td>\n",
       "      <td>0.46115</td>\n",
       "      <td>0.372214</td>\n",
       "    </tr>\n",
       "    <tr>\n",
       "      <th>7</th>\n",
       "      <td>0.609756</td>\n",
       "      <td>0.647059</td>\n",
       "      <td>0.35</td>\n",
       "      <td>0.46115</td>\n",
       "      <td>0.372214</td>\n",
       "    </tr>\n",
       "    <tr>\n",
       "      <th>8</th>\n",
       "      <td>0.682927</td>\n",
       "      <td>0.647059</td>\n",
       "      <td>0.35</td>\n",
       "      <td>0.46115</td>\n",
       "      <td>0.372214</td>\n",
       "    </tr>\n",
       "    <tr>\n",
       "      <th>9</th>\n",
       "      <td>0.800000</td>\n",
       "      <td>0.647059</td>\n",
       "      <td>0.35</td>\n",
       "      <td>0.46115</td>\n",
       "      <td>0.372214</td>\n",
       "    </tr>\n",
       "  </tbody>\n",
       "</table>\n",
       "</div>"
      ],
      "text/plain": [
       "   cross_validation_score  accuracy  recall  precision        F1\n",
       "0                0.653846  0.647059    0.35    0.46115  0.372214\n",
       "1                0.653846  0.647059    0.35    0.46115  0.372214\n",
       "2                0.600000  0.647059    0.35    0.46115  0.372214\n",
       "3                0.687500  0.647059    0.35    0.46115  0.372214\n",
       "4                0.717391  0.647059    0.35    0.46115  0.372214\n",
       "5                0.707317  0.647059    0.35    0.46115  0.372214\n",
       "6                0.780488  0.647059    0.35    0.46115  0.372214\n",
       "7                0.609756  0.647059    0.35    0.46115  0.372214\n",
       "8                0.682927  0.647059    0.35    0.46115  0.372214\n",
       "9                0.800000  0.647059    0.35    0.46115  0.372214"
      ]
     },
     "execution_count": 224,
     "metadata": {},
     "output_type": "execute_result"
    }
   ],
   "source": [
    "perf_df = pd.DataFrame.from_dict(rf_perf_res)\n",
    "perf_df"
   ]
  },
  {
   "cell_type": "code",
   "execution_count": 225,
   "metadata": {},
   "outputs": [
    {
     "name": "stdout",
     "output_type": "stream",
     "text": [
      "Random Forest Train Score: 0.99\n",
      "Random Forest Test Score: 0.65\n"
     ]
    }
   ],
   "source": [
    "print('Random Forest Train Score: {:.2f}'.format(rfc.score(X_train, y_train)))\n",
    "print('Random Forest Test Score: {:.2f}'.format(rfc.score(X_test, y_test)))"
   ]
  },
  {
   "cell_type": "code",
   "execution_count": 226,
   "metadata": {},
   "outputs": [
    {
     "data": {
      "text/plain": [
       "0.6975496143422972"
      ]
     },
     "execution_count": 226,
     "metadata": {},
     "output_type": "execute_result"
    }
   ],
   "source": [
    "# removing column 13\n",
    "df.drop(13, inplace=True)\n",
    "y = df.iloc[ : , -1] \n",
    "X = df.iloc[:, :-1]\n",
    "X_train, X_test, y_train, y_test = train_test_split(X, y, test_size=0.30)\n",
    "rfc = RandomForestClassifier(n_estimators=10)\n",
    "rfc.fit(X_train, y_train)\n",
    "rfc_pred = rfc.predict(X_test)\n",
    "rf_perf = Performance()\n",
    "rf_perf_res = rf_perf.get_perf(rfc, X, y, y_test,rfc_pred)\n",
    "rf_perf_res['cross_validation_score'].mean()"
   ]
  },
  {
   "cell_type": "code",
   "execution_count": 227,
   "metadata": {},
   "outputs": [
    {
     "name": "stdout",
     "output_type": "stream",
     "text": [
      "             precision    recall  f1-score   support\n",
      "\n",
      "          1       0.66      0.94      0.77        71\n",
      "          2       0.38      0.27      0.32        11\n",
      "          3       0.50      0.67      0.57         3\n",
      "          4       0.33      0.17      0.22         6\n",
      "          5       1.00      0.12      0.22         8\n",
      "          6       0.80      0.57      0.67         7\n",
      "          7       0.00      0.00      0.00         1\n",
      "          8       0.00      0.00      0.00         1\n",
      "          9       1.00      1.00      1.00         2\n",
      "         10       0.70      0.44      0.54        16\n",
      "         14       0.00      0.00      0.00         2\n",
      "         15       0.00      0.00      0.00         2\n",
      "         16       0.00      0.00      0.00         6\n",
      "\n",
      "avg / total       0.60      0.64      0.58       136\n",
      "\n"
     ]
    }
   ],
   "source": [
    "confusion_matrices.append(confusion_matrix(y_test, rfc_pred, labels=range(1,17))\n",
    ")\n",
    "print(classification_report(y_test, rfc_pred))"
   ]
  },
  {
   "cell_type": "code",
   "execution_count": 228,
   "metadata": {},
   "outputs": [
    {
     "name": "stdout",
     "output_type": "stream",
     "text": [
      "Random Forest Train Score: 0.98\n",
      "Random Forest Test Score: 0.64\n"
     ]
    }
   ],
   "source": [
    "print('Random Forest Train Score: {:.2f}'.format(rfc.score(X_train, y_train)))\n",
    "print('Random Forest Test Score: {:.2f}'.format(rfc.score(X_test, y_test)))\n"
   ]
  },
  {
   "cell_type": "code",
   "execution_count": 229,
   "metadata": {},
   "outputs": [
    {
     "data": {
      "text/plain": [
       "0.70396534292266"
      ]
     },
     "execution_count": 229,
     "metadata": {},
     "output_type": "execute_result"
    }
   ],
   "source": [
    "# Imputing the missing data\n",
    "from sklearn.preprocessing import Imputer\n",
    "from sklearn.preprocessing import StandardScaler\n",
    "# NaNs to mean\n",
    "df = na_to_zero(df)\n",
    "df.fillna(df.mean(), inplace=True)\n",
    "y = df.iloc[ : , -1] \n",
    "X = df.iloc[:, :-1]\n",
    "X_train, X_test, y_train, y_test = train_test_split(X, y, test_size=0.30)\n",
    "imp = Imputer(missing_values='NaN', strategy='mean', axis=0)\n",
    "X = imp.fit_transform(X)\n",
    "# normalize the dataset\n",
    "sc = StandardScaler()\n",
    "X = sc.fit_transform(X)\n",
    "rfc = RandomForestClassifier(n_estimators=10)\n",
    "rfc.fit(X_train, y_train)\n",
    "rfc_pred = rfc.predict(X_test)\n",
    "rf_perf = Performance()\n",
    "rf_perf_res = rf_perf.get_perf(rfc, X, y, y_test,rfc_pred)\n",
    "rf_perf_res['cross_validation_score'].mean()\n"
   ]
  },
  {
   "cell_type": "code",
   "execution_count": 230,
   "metadata": {},
   "outputs": [
    {
     "name": "stdout",
     "output_type": "stream",
     "text": [
      "             precision    recall  f1-score   support\n",
      "\n",
      "          1       0.72      0.94      0.81        72\n",
      "          2       0.60      0.60      0.60        15\n",
      "          3       0.80      0.80      0.80         5\n",
      "          4       1.00      0.50      0.67         4\n",
      "          5       0.00      0.00      0.00         4\n",
      "          6       0.67      0.22      0.33         9\n",
      "          7       0.00      0.00      0.00         1\n",
      "          8       0.00      0.00      0.00         2\n",
      "          9       1.00      1.00      1.00         2\n",
      "         10       0.50      0.50      0.50        14\n",
      "         14       0.00      0.00      0.00         1\n",
      "         15       0.00      0.00      0.00         1\n",
      "         16       0.00      0.00      0.00         6\n",
      "\n",
      "avg / total       0.61      0.69      0.63       136\n",
      "\n"
     ]
    }
   ],
   "source": [
    "confusion_matrices.append(confusion_matrix(y_test, rfc_pred, labels=range(1,17))\n",
    ")\n",
    "print(classification_report(y_test, rfc_pred))"
   ]
  },
  {
   "cell_type": "code",
   "execution_count": 231,
   "metadata": {},
   "outputs": [
    {
     "name": "stdout",
     "output_type": "stream",
     "text": [
      "Random Forest Train Score: 1.00\n",
      "Random Forest Test Score: 0.69\n"
     ]
    }
   ],
   "source": [
    "print('Random Forest Train Score: {:.2f}'.format(rfc.score(X_train, y_train)))\n",
    "print('Random Forest Test Score: {:.2f}'.format(rfc.score(X_test, y_test)))\n"
   ]
  },
  {
   "cell_type": "code",
   "execution_count": 240,
   "metadata": {},
   "outputs": [
    {
     "data": {
      "image/png": "[encoded data removed]",
      "text/plain": [
       "<Figure size 720x1800 with 8 Axes>"
      ]
     },
     "metadata": {
      "needs_background": "light"
     },
     "output_type": "display_data"
    }
   ],
   "source": [
    "# Generate a custom diverging colormap\n",
    "cmap = sns.diverging_palette(220, 10, as_cmap=True)\n",
    "plt.figure(figsize=(10,25))\n",
    "for i in range(len(confusion_matrices)):\n",
    "    plt.subplot(len(confusion_matrices), 1, i+1)\n",
    "    sns.heatmap(confusion_matrices[i], cmap=cmap, center=0,)"
   ]
  },
  {
   "cell_type": "markdown",
   "metadata": {},
   "source": [
    "## Naive Bayes Classifier"
   ]
  },
  {
   "cell_type": "code",
   "execution_count": 241,
   "metadata": {},
   "outputs": [],
   "source": [
    "# Reset data\n",
    "df = pd.read_csv('arrhythmia.csv', header=None)\n",
    "df.replace(to_replace='?', value=np.nan, inplace=True)\n",
    "df.fillna(0, inplace=True)\n",
    "y = df.iloc[ : , -1] # Truth\n",
    "X = df.iloc[:, :-1]\n",
    "X_train, X_test, y_train, y_test = train_test_split(X, y, test_size=0.30)"
   ]
  },
  {
   "cell_type": "code",
   "execution_count": 244,
   "metadata": {},
   "outputs": [
    {
     "data": {
      "text/plain": [
       "array([ 1,  1,  3,  1,  1, 10,  1,  1,  1, 10,  1, 16, 10,  1,  1,  1,  1,\n",
       "        3,  9, 10,  1,  1,  1,  1,  1,  2,  2, 10,  1,  1,  1,  5,  2,  1,\n",
       "        1,  1,  1,  1,  1,  1, 10,  1,  1,  1,  1,  1, 10,  9,  1, 10,  2,\n",
       "        1,  1,  1,  3,  1, 10,  2, 10,  1,  1,  1,  1, 10,  2,  6,  1, 10,\n",
       "        3, 10,  4,  1, 10, 10,  1,  4, 10,  1,  1,  1, 10, 16, 10,  2,  2,\n",
       "       10,  1,  1,  1,  1, 10,  1,  1,  1,  1,  1,  1,  1,  1,  1, 10,  1,\n",
       "        1, 10,  1,  1,  1,  1, 10,  2,  2,  2,  1,  1,  1,  1,  2,  1,  1,\n",
       "        1,  1,  1,  3,  1,  1,  1,  1,  1,  1,  1,  1,  5,  1,  1,  1, 10,\n",
       "       10,  1,  1,  1,  1,  1,  2,  2,  4,  1,  1,  1,  1,  1,  1,  1,  1,\n",
       "        1,  1,  1,  6,  1,  1,  1,  1,  1,  1,  1,  1,  1,  6,  1,  1,  1,\n",
       "        1, 10,  1, 10,  2,  1,  1,  1,  1,  2,  1,  2,  1,  1,  1,  4,  1,\n",
       "        1,  2, 10,  1,  1,  1, 10,  1, 10,  1,  1, 10,  2,  1,  2,  4,  1,\n",
       "        1,  5,  1, 10,  1,  1,  1,  1,  1,  1,  1,  1,  1,  1,  2,  1,  1,\n",
       "        1,  2,  2,  1,  2,  1,  1,  1, 10,  1,  1,  3,  1,  1,  1,  1,  1,\n",
       "        1,  1,  1,  1,  2,  1,  1,  2,  1,  1,  1, 10,  1,  6,  2,  6,  1,\n",
       "        1,  2,  1,  1,  1, 10, 10, 10,  1,  6,  1,  1,  1,  1,  1,  1,  1,\n",
       "        1,  3, 10,  1,  1, 16,  1,  2,  2,  1, 10,  2,  1,  1, 10,  6,  1,\n",
       "        3,  4,  2,  2,  1,  1,  1, 16, 10,  1,  1,  1,  1,  4,  3,  1,  1,\n",
       "        1,  1,  2,  1,  1,  1,  1,  1,  1,  1])"
      ]
     },
     "execution_count": 244,
     "metadata": {},
     "output_type": "execute_result"
    }
   ],
   "source": [
    "from sklearn.naive_bayes import BernoulliNB\n",
    "naive_bayes = BernoulliNB()\n",
    "naive_bayes.fit(X_train, y_train)\n",
    "y_train_nb = naive_bayes.predict(X_train)\n",
    "y_pred_nb = naive_bayes.predict(X_test)\n",
    "y_train_nb"
   ]
  },
  {
   "cell_type": "code",
   "execution_count": 245,
   "metadata": {},
   "outputs": [
    {
     "data": {
      "text/html": [
       "<div>\n",
       "<style scoped>\n",
       "    .dataframe tbody tr th:only-of-type {\n",
       "        vertical-align: middle;\n",
       "    }\n",
       "\n",
       "    .dataframe tbody tr th {\n",
       "        vertical-align: top;\n",
       "    }\n",
       "\n",
       "    .dataframe thead th {\n",
       "        text-align: right;\n",
       "    }\n",
       "</style>\n",
       "<table border=\"1\" class=\"dataframe\">\n",
       "  <thead>\n",
       "    <tr style=\"text-align: right;\">\n",
       "      <th></th>\n",
       "      <th>cross_validation_score</th>\n",
       "      <th>accuracy</th>\n",
       "      <th>recall</th>\n",
       "      <th>precision</th>\n",
       "      <th>F1</th>\n",
       "    </tr>\n",
       "  </thead>\n",
       "  <tbody>\n",
       "    <tr>\n",
       "      <th>0</th>\n",
       "      <td>0.576923</td>\n",
       "      <td>0.705882</td>\n",
       "      <td>0.378615</td>\n",
       "      <td>0.28307</td>\n",
       "      <td>0.323405</td>\n",
       "    </tr>\n",
       "    <tr>\n",
       "      <th>1</th>\n",
       "      <td>0.653846</td>\n",
       "      <td>0.705882</td>\n",
       "      <td>0.378615</td>\n",
       "      <td>0.28307</td>\n",
       "      <td>0.323405</td>\n",
       "    </tr>\n",
       "    <tr>\n",
       "      <th>2</th>\n",
       "      <td>0.500000</td>\n",
       "      <td>0.705882</td>\n",
       "      <td>0.378615</td>\n",
       "      <td>0.28307</td>\n",
       "      <td>0.323405</td>\n",
       "    </tr>\n",
       "    <tr>\n",
       "      <th>3</th>\n",
       "      <td>0.645833</td>\n",
       "      <td>0.705882</td>\n",
       "      <td>0.378615</td>\n",
       "      <td>0.28307</td>\n",
       "      <td>0.323405</td>\n",
       "    </tr>\n",
       "    <tr>\n",
       "      <th>4</th>\n",
       "      <td>0.695652</td>\n",
       "      <td>0.705882</td>\n",
       "      <td>0.378615</td>\n",
       "      <td>0.28307</td>\n",
       "      <td>0.323405</td>\n",
       "    </tr>\n",
       "    <tr>\n",
       "      <th>5</th>\n",
       "      <td>0.707317</td>\n",
       "      <td>0.705882</td>\n",
       "      <td>0.378615</td>\n",
       "      <td>0.28307</td>\n",
       "      <td>0.323405</td>\n",
       "    </tr>\n",
       "    <tr>\n",
       "      <th>6</th>\n",
       "      <td>0.707317</td>\n",
       "      <td>0.705882</td>\n",
       "      <td>0.378615</td>\n",
       "      <td>0.28307</td>\n",
       "      <td>0.323405</td>\n",
       "    </tr>\n",
       "    <tr>\n",
       "      <th>7</th>\n",
       "      <td>0.682927</td>\n",
       "      <td>0.705882</td>\n",
       "      <td>0.378615</td>\n",
       "      <td>0.28307</td>\n",
       "      <td>0.323405</td>\n",
       "    </tr>\n",
       "    <tr>\n",
       "      <th>8</th>\n",
       "      <td>0.682927</td>\n",
       "      <td>0.705882</td>\n",
       "      <td>0.378615</td>\n",
       "      <td>0.28307</td>\n",
       "      <td>0.323405</td>\n",
       "    </tr>\n",
       "    <tr>\n",
       "      <th>9</th>\n",
       "      <td>0.800000</td>\n",
       "      <td>0.705882</td>\n",
       "      <td>0.378615</td>\n",
       "      <td>0.28307</td>\n",
       "      <td>0.323405</td>\n",
       "    </tr>\n",
       "  </tbody>\n",
       "</table>\n",
       "</div>"
      ],
      "text/plain": [
       "   cross_validation_score  accuracy    recall  precision        F1\n",
       "0                0.576923  0.705882  0.378615    0.28307  0.323405\n",
       "1                0.653846  0.705882  0.378615    0.28307  0.323405\n",
       "2                0.500000  0.705882  0.378615    0.28307  0.323405\n",
       "3                0.645833  0.705882  0.378615    0.28307  0.323405\n",
       "4                0.695652  0.705882  0.378615    0.28307  0.323405\n",
       "5                0.707317  0.705882  0.378615    0.28307  0.323405\n",
       "6                0.707317  0.705882  0.378615    0.28307  0.323405\n",
       "7                0.682927  0.705882  0.378615    0.28307  0.323405\n",
       "8                0.682927  0.705882  0.378615    0.28307  0.323405\n",
       "9                0.800000  0.705882  0.378615    0.28307  0.323405"
      ]
     },
     "execution_count": 245,
     "metadata": {},
     "output_type": "execute_result"
    }
   ],
   "source": [
    "nb_performance = Performance()\n",
    "nb_performance.get_perf(naive_bayes, X, y, y_test, y_pred_nb)\n",
    "nb_performance_df = pd.DataFrame.from_dict(nb_performance.get_perf(naive_bayes, X, y, y_test, y_pred_nb))\n",
    "nb_performance_df"
   ]
  },
  {
   "cell_type": "code",
   "execution_count": 246,
   "metadata": {},
   "outputs": [
    {
     "name": "stdout",
     "output_type": "stream",
     "text": [
      "0.6652742542893655\n"
     ]
    }
   ],
   "source": [
    "print(nb_performance.get_perf(naive_bayes, X, y, y_test, y_pred_nb)['cross_validation_score'].mean())"
   ]
  },
  {
   "cell_type": "markdown",
   "metadata": {},
   "source": [
    "## Improving Naive Bayes"
   ]
  },
  {
   "cell_type": "markdown",
   "metadata": {},
   "source": [
    "## K-NN Classifier"
   ]
  },
  {
   "cell_type": "code",
   "execution_count": 257,
   "metadata": {},
   "outputs": [],
   "source": [
    "# Reset data\n",
    "confusion_matrices = []\n",
    "df = pd.read_csv('arrhythmia.csv', header=None)\n",
    "df.replace(to_replace='?', value=np.nan, inplace=True)\n",
    "df.fillna(0, inplace=True)\n",
    "y = df.iloc[ : , -1] # Truth\n",
    "X = df.iloc[:, :-1]\n",
    "X_train, X_test, y_train, y_test = train_test_split(X, y, test_size=0.30)"
   ]
  },
  {
   "cell_type": "code",
   "execution_count": 258,
   "metadata": {},
   "outputs": [
    {
     "name": "stdout",
     "output_type": "stream",
     "text": [
      "             precision    recall  f1-score   support\n",
      "\n",
      "          1       0.58      0.92      0.71        77\n",
      "          2       0.00      0.00      0.00        12\n",
      "          4       1.00      0.40      0.57         5\n",
      "          5       0.00      0.00      0.00         4\n",
      "          6       0.00      0.00      0.00         9\n",
      "          8       0.00      0.00      0.00         1\n",
      "          9       1.00      1.00      1.00         1\n",
      "         10       1.00      0.19      0.32        16\n",
      "         14       0.00      0.00      0.00         3\n",
      "         16       0.00      0.00      0.00         8\n",
      "\n",
      "avg / total       0.49      0.57      0.47       136\n",
      "\n"
     ]
    }
   ],
   "source": [
    "from sklearn.neighbors import KNeighborsClassifier\n",
    "neigh = KNeighborsClassifier(n_neighbors=3)\n",
    "neigh.fit(X_train,y_train)\n",
    "pred = neigh.predict(X_test)\n",
    "confusion_matrices.append(confusion_matrix(y_test, pred))\n",
    "print(classification_report(y_test, pred))"
   ]
  },
  {
   "cell_type": "code",
   "execution_count": 259,
   "metadata": {},
   "outputs": [],
   "source": [
    "error_rate = []\n",
    "for i in range(1,40):\n",
    "    knn = KNeighborsClassifier(n_neighbors=i)\n",
    "    knn.fit(X_train, y_train)\n",
    "    pred_i = knn.predict(X_test)\n",
    "    error_rate.append(np.mean(pred_i != y_test))"
   ]
  },
  {
   "cell_type": "code",
   "execution_count": 260,
   "metadata": {},
   "outputs": [
    {
     "data": {
      "text/plain": [
       "Text(0,0.5,'Error Rate')"
      ]
     },
     "execution_count": 260,
     "metadata": {},
     "output_type": "execute_result"
    },
    {
     "data": {
      "image/png": "[encoded data removed]",
      "text/plain": [
       "<Figure size 720x432 with 1 Axes>"
      ]
     },
     "metadata": {
      "needs_background": "light"
     },
     "output_type": "display_data"
    }
   ],
   "source": [
    "plt.figure(figsize=(10,6))\n",
    "plt.plot(range(1,40), error_rate, color='blue', linestyle='dashed', marker='o',\n",
    "        markerfacecolor='red', markersize=10)\n",
    "plt.title('Error Rate vs. K value')\n",
    "plt.xlabel('K')\n",
    "plt.ylabel('Error Rate')\n",
    "# best k is 7"
   ]
  },
  {
   "cell_type": "code",
   "execution_count": 261,
   "metadata": {},
   "outputs": [
    {
     "name": "stdout",
     "output_type": "stream",
     "text": [
      "WITH K=7\n",
      "\n",
      "\n",
      "             precision    recall  f1-score   support\n",
      "\n",
      "          1       0.58      0.97      0.73        77\n",
      "          2       0.25      0.08      0.12        12\n",
      "          4       0.00      0.00      0.00         5\n",
      "          5       0.00      0.00      0.00         4\n",
      "          6       0.00      0.00      0.00         9\n",
      "          8       0.00      0.00      0.00         1\n",
      "          9       0.00      0.00      0.00         1\n",
      "         10       1.00      0.19      0.32        16\n",
      "         14       0.00      0.00      0.00         3\n",
      "         16       0.00      0.00      0.00         8\n",
      "\n",
      "avg / total       0.47      0.58      0.46       136\n",
      "\n"
     ]
    }
   ],
   "source": [
    "# K = 7\n",
    "knn = KNeighborsClassifier(n_neighbors=5)\n",
    "knn.fit(X_train, y_train)\n",
    "pred = knn.predict(X_test)\n",
    "confusion_matrices.append(confusion_matrix(y_test, pred))\n",
    "print('WITH K=7')\n",
    "print('\\n')\n",
    "print(classification_report(y_test,pred))"
   ]
  },
  {
   "cell_type": "code",
   "execution_count": 263,
   "metadata": {},
   "outputs": [
    {
     "data": {
      "image/png": "[encoded data removed]",
      "text/plain": [
       "<Figure size 720x1080 with 4 Axes>"
      ]
     },
     "metadata": {
      "needs_background": "light"
     },
     "output_type": "display_data"
    }
   ],
   "source": [
    "cmap = sns.diverging_palette(220, 10, as_cmap=True)\n",
    "plt.figure(figsize=(10,15))\n",
    "for i in range(len(confusion_matrices)):\n",
    "    plt.subplot(len(confusion_matrices), 1, i+1)\n",
    "    sns.heatmap(confusion_matrices[i], cmap=cmap, center=0,)"
   ]
  },
  {
   "cell_type": "markdown",
   "metadata": {},
   "source": [
    "## Logistic Regression"
   ]
  },
  {
   "cell_type": "code",
   "execution_count": 266,
   "metadata": {},
   "outputs": [],
   "source": [
    "# Reset data\n",
    "confusion_matrices = []\n",
    "df = pd.read_csv('arrhythmia.csv', header=None)\n",
    "df.replace(to_replace='?', value=np.nan, inplace=True)\n",
    "df.fillna(0, inplace=True)\n",
    "y = df.iloc[ : , -1] # Truth\n",
    "X = df.iloc[:, :-1]\n",
    "X_train, X_test, y_train, y_test = train_test_split(X, y, test_size=0.30)"
   ]
  },
  {
   "cell_type": "code",
   "execution_count": 267,
   "metadata": {},
   "outputs": [
    {
     "name": "stdout",
     "output_type": "stream",
     "text": [
      "Logistic Regression Train Score: 1.00\n",
      "Logistic Regression Test Score: 0.63\n",
      "Logistic Regression (C=0.5) Train Score: 1.00\n",
      "Logistic Regression (C=0.5) Test Score: 0.64\n",
      "Logistic Regression (C=0.1) Train Score: 0.99\n",
      "Logistic Regression (C=0.1) Test Score: 0.65\n"
     ]
    }
   ],
   "source": [
    "from sklearn.linear_model import LogisticRegression\n",
    "import matplotlib.pyplot as plt\n",
    "import numpy as np\n",
    "from sklearn.model_selection import learning_curve, KFold\n",
    "\n",
    "lr = LogisticRegression()\n",
    "lr.fit(X_train, y_train)\n",
    "y_train_lr = lr.predict(X_train)\n",
    "y_pred_lr = lr.predict(X_test)\n",
    "print('Logistic Regression Train Score: {:.2f}'.format(lr.score(X_train, y_train)))\n",
    "print('Logistic Regression Test Score: {:.2f}'.format(lr.score(X_test, y_test)))\n",
    "\n",
    "lr = LogisticRegression(C=0.5)\n",
    "lr.fit(X_train, y_train)\n",
    "y_train_lr = lr.predict(X_train)\n",
    "y_pred_lr = lr.predict(X_test)\n",
    "print('Logistic Regression (C=0.5) Train Score: {:.2f}'.format(lr.score(X_train, y_train)))\n",
    "print('Logistic Regression (C=0.5) Test Score: {:.2f}'.format(lr.score(X_test, y_test)))\n",
    "\n",
    "lr = LogisticRegression(C=0.1)\n",
    "lr.fit(X_train, y_train)\n",
    "y_train_lr = lr.predict(X_train)\n",
    "y_pred_lr = lr.predict(X_test)\n",
    "print('Logistic Regression (C=0.1) Train Score: {:.2f}'.format(lr.score(X_train, y_train)))\n",
    "print('Logistic Regression (C=0.1) Test Score: {:.2f}'.format(lr.score(X_test, y_test)))\n"
   ]
  },
  {
   "cell_type": "markdown",
   "metadata": {},
   "source": [
    "## Decision Tree Testing"
   ]
  },
  {
   "cell_type": "code",
   "execution_count": 269,
   "metadata": {},
   "outputs": [
    {
     "ename": "AttributeError",
     "evalue": "'int' object has no attribute 'lower'",
     "output_type": "error",
     "traceback": [
      "\u001b[0;31m---------------------------------------------------------------------------\u001b[0m",
      "\u001b[0;31mAttributeError\u001b[0m                            Traceback (most recent call last)",
      "\u001b[0;32m<ipython-input-269-fe48bfacaced>\u001b[0m in \u001b[0;36m<module>\u001b[0;34m()\u001b[0m\n\u001b[1;32m      9\u001b[0m \u001b[0mX_train\u001b[0m\u001b[0;34m,\u001b[0m \u001b[0mX_test\u001b[0m\u001b[0;34m,\u001b[0m \u001b[0my_train\u001b[0m\u001b[0;34m,\u001b[0m \u001b[0my_test\u001b[0m \u001b[0;34m=\u001b[0m \u001b[0mtrain_test_split\u001b[0m\u001b[0;34m(\u001b[0m\u001b[0mX\u001b[0m\u001b[0;34m,\u001b[0m \u001b[0my\u001b[0m\u001b[0;34m,\u001b[0m \u001b[0mtest_size\u001b[0m\u001b[0;34m=\u001b[0m\u001b[0;36m0.30\u001b[0m\u001b[0;34m)\u001b[0m\u001b[0;34m\u001b[0m\u001b[0m\n\u001b[1;32m     10\u001b[0m \u001b[0;34m\u001b[0m\u001b[0m\n\u001b[0;32m---> 11\u001b[0;31m \u001b[0mX_vec\u001b[0m \u001b[0;34m=\u001b[0m \u001b[0mcv\u001b[0m\u001b[0;34m.\u001b[0m\u001b[0mfit_transform\u001b[0m\u001b[0;34m(\u001b[0m\u001b[0mX\u001b[0m\u001b[0;34m)\u001b[0m\u001b[0;34m\u001b[0m\u001b[0m\n\u001b[0m",
      "\u001b[0;32m~/anaconda3/lib/python3.7/site-packages/sklearn/feature_extraction/text.py\u001b[0m in \u001b[0;36mfit_transform\u001b[0;34m(self, raw_documents, y)\u001b[0m\n\u001b[1;32m    867\u001b[0m \u001b[0;34m\u001b[0m\u001b[0m\n\u001b[1;32m    868\u001b[0m         vocabulary, X = self._count_vocab(raw_documents,\n\u001b[0;32m--> 869\u001b[0;31m                                           self.fixed_vocabulary_)\n\u001b[0m\u001b[1;32m    870\u001b[0m \u001b[0;34m\u001b[0m\u001b[0m\n\u001b[1;32m    871\u001b[0m         \u001b[0;32mif\u001b[0m \u001b[0mself\u001b[0m\u001b[0;34m.\u001b[0m\u001b[0mbinary\u001b[0m\u001b[0;34m:\u001b[0m\u001b[0;34m\u001b[0m\u001b[0m\n",
      "\u001b[0;32m~/anaconda3/lib/python3.7/site-packages/sklearn/feature_extraction/text.py\u001b[0m in \u001b[0;36m_count_vocab\u001b[0;34m(self, raw_documents, fixed_vocab)\u001b[0m\n\u001b[1;32m    790\u001b[0m         \u001b[0;32mfor\u001b[0m \u001b[0mdoc\u001b[0m \u001b[0;32min\u001b[0m \u001b[0mraw_documents\u001b[0m\u001b[0;34m:\u001b[0m\u001b[0;34m\u001b[0m\u001b[0m\n\u001b[1;32m    791\u001b[0m             \u001b[0mfeature_counter\u001b[0m \u001b[0;34m=\u001b[0m \u001b[0;34m{\u001b[0m\u001b[0;34m}\u001b[0m\u001b[0;34m\u001b[0m\u001b[0m\n\u001b[0;32m--> 792\u001b[0;31m             \u001b[0;32mfor\u001b[0m \u001b[0mfeature\u001b[0m \u001b[0;32min\u001b[0m \u001b[0manalyze\u001b[0m\u001b[0;34m(\u001b[0m\u001b[0mdoc\u001b[0m\u001b[0;34m)\u001b[0m\u001b[0;34m:\u001b[0m\u001b[0;34m\u001b[0m\u001b[0m\n\u001b[0m\u001b[1;32m    793\u001b[0m                 \u001b[0;32mtry\u001b[0m\u001b[0;34m:\u001b[0m\u001b[0;34m\u001b[0m\u001b[0m\n\u001b[1;32m    794\u001b[0m                     \u001b[0mfeature_idx\u001b[0m \u001b[0;34m=\u001b[0m \u001b[0mvocabulary\u001b[0m\u001b[0;34m[\u001b[0m\u001b[0mfeature\u001b[0m\u001b[0;34m]\u001b[0m\u001b[0;34m\u001b[0m\u001b[0m\n",
      "\u001b[0;32m~/anaconda3/lib/python3.7/site-packages/sklearn/feature_extraction/text.py\u001b[0m in \u001b[0;36m<lambda>\u001b[0;34m(doc)\u001b[0m\n\u001b[1;32m    264\u001b[0m \u001b[0;34m\u001b[0m\u001b[0m\n\u001b[1;32m    265\u001b[0m             return lambda doc: self._word_ngrams(\n\u001b[0;32m--> 266\u001b[0;31m                 tokenize(preprocess(self.decode(doc))), stop_words)\n\u001b[0m\u001b[1;32m    267\u001b[0m \u001b[0;34m\u001b[0m\u001b[0m\n\u001b[1;32m    268\u001b[0m         \u001b[0;32melse\u001b[0m\u001b[0;34m:\u001b[0m\u001b[0;34m\u001b[0m\u001b[0m\n",
      "\u001b[0;32m~/anaconda3/lib/python3.7/site-packages/sklearn/feature_extraction/text.py\u001b[0m in \u001b[0;36m<lambda>\u001b[0;34m(x)\u001b[0m\n\u001b[1;32m    230\u001b[0m \u001b[0;34m\u001b[0m\u001b[0m\n\u001b[1;32m    231\u001b[0m         \u001b[0;32mif\u001b[0m \u001b[0mself\u001b[0m\u001b[0;34m.\u001b[0m\u001b[0mlowercase\u001b[0m\u001b[0;34m:\u001b[0m\u001b[0;34m\u001b[0m\u001b[0m\n\u001b[0;32m--> 232\u001b[0;31m             \u001b[0;32mreturn\u001b[0m \u001b[0;32mlambda\u001b[0m \u001b[0mx\u001b[0m\u001b[0;34m:\u001b[0m \u001b[0mstrip_accents\u001b[0m\u001b[0;34m(\u001b[0m\u001b[0mx\u001b[0m\u001b[0;34m.\u001b[0m\u001b[0mlower\u001b[0m\u001b[0;34m(\u001b[0m\u001b[0;34m)\u001b[0m\u001b[0;34m)\u001b[0m\u001b[0;34m\u001b[0m\u001b[0m\n\u001b[0m\u001b[1;32m    233\u001b[0m         \u001b[0;32melse\u001b[0m\u001b[0;34m:\u001b[0m\u001b[0;34m\u001b[0m\u001b[0m\n\u001b[1;32m    234\u001b[0m             \u001b[0;32mreturn\u001b[0m \u001b[0mstrip_accents\u001b[0m\u001b[0;34m\u001b[0m\u001b[0m\n",
      "\u001b[0;31mAttributeError\u001b[0m: 'int' object has no attribute 'lower'"
     ]
    }
   ],
   "source": [
    "from sklearn.feature_selection import mutual_info_classif\n",
    "from sklearn.feature_extraction.text import CountVectorizer\n",
    "cv = CountVectorizer(max_df=0.95, min_df=2, max_features=10000)\n",
    "df = pd.read_csv('arrhythmia.csv', header=None)\n",
    "df.replace(to_replace='?', value=np.nan, inplace=True)\n",
    "df.fillna(0, inplace=True)\n",
    "y = df.iloc[ : , -1] # Truth\n",
    "X = df.iloc[:, :-1]\n",
    "X_train, X_test, y_train, y_test = train_test_split(X, y, test_size=0.30)\n",
    "\n",
    "X_vec = cv.fit_transform(X)"
   ]
  },
  {
   "cell_type": "code",
   "execution_count": null,
   "metadata": {},
   "outputs": [],
   "source": []
  }
 ],
 "metadata": {
  "kernelspec": {
   "display_name": "Python 3",
   "language": "python",
   "name": "python3"
  },
  "language_info": {
   "codemirror_mode": {
    "name": "ipython",
    "version": 3
   },
   "file_extension": ".py",
   "mimetype": "text/x-python",
   "name": "python",
   "nbconvert_exporter": "python",
   "pygments_lexer": "ipython3",
   "version": "3.7.0"
  }
 },
 "nbformat": 4,
 "nbformat_minor": 2
}
